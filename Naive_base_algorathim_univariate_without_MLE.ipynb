{
  "nbformat": 4,
  "nbformat_minor": 0,
  "metadata": {
    "colab": {
      "name": "Naive_base_algorathim_univariate_without_MLE",
      "version": "0.3.2",
      "provenance": []
    },
    "kernelspec": {
      "name": "python3",
      "display_name": "Python 3"
    }
  },
  "cells": [
    {
      "cell_type": "code",
      "metadata": {
        "id": "lWl0epoIqLai",
        "colab_type": "code",
        "colab": {}
      },
      "source": [
        "data=pd.read_excel(\"Cryotherapy.xlsx\")          #reading the data from the dataset using pandas"
      ],
      "execution_count": 0,
      "outputs": []
    },
    {
      "cell_type": "code",
      "metadata": {
        "id": "UBe_EKGJsfX_",
        "colab_type": "code",
        "colab": {}
      },
      "source": [
        "import pandas as pd\n",
        "import numpy as np\n",
        "import matplotlib.pyplot as plt                                               #importing all the libraries which are required to perform operations\n"
      ],
      "execution_count": 0,
      "outputs": []
    },
    {
      "cell_type": "code",
      "metadata": {
        "id": "IxZp_rPx8aO9",
        "colab_type": "code",
        "outputId": "31d33229-406f-45d1-98c5-9547c9a002a0",
        "colab": {
          "base_uri": "https://localhost:8080/",
          "height": 202
        }
      },
      "source": [
        "!wget https://archive.ics.uci.edu/ml/machine-learning-databases/00429/Cryotherapy.xlsx                           #copying the link of the dataset from google and loading "
      ],
      "execution_count": 7,
      "outputs": [
        {
          "output_type": "stream",
          "text": [
            "--2019-06-30 11:39:42--  https://archive.ics.uci.edu/ml/machine-learning-databases/00429/Cryotherapy.xlsx\n",
            "Resolving archive.ics.uci.edu (archive.ics.uci.edu)... 128.195.10.252\n",
            "Connecting to archive.ics.uci.edu (archive.ics.uci.edu)|128.195.10.252|:443... connected.\n",
            "HTTP request sent, awaiting response... 200 OK\n",
            "Length: 33589 (33K) [application/x-httpd-php]\n",
            "Saving to: ‘Cryotherapy.xlsx.1’\n",
            "\n",
            "\rCryotherapy.xlsx.1    0%[                    ]       0  --.-KB/s               \rCryotherapy.xlsx.1  100%[===================>]  32.80K  --.-KB/s    in 0.07s   \n",
            "\n",
            "2019-06-30 11:39:43 (505 KB/s) - ‘Cryotherapy.xlsx.1’ saved [33589/33589]\n",
            "\n"
          ],
          "name": "stdout"
        }
      ]
    },
    {
      "cell_type": "code",
      "metadata": {
        "id": "_1QXNiPy8lOp",
        "colab_type": "code",
        "outputId": "2f16b345-d221-4385-ba4c-15593e7c1ec6",
        "colab": {
          "base_uri": "https://localhost:8080/",
          "height": 254
        }
      },
      "source": [
        "data.corr()                           #finding out the correalation between data"
      ],
      "execution_count": 10,
      "outputs": [
        {
          "output_type": "execute_result",
          "data": {
            "text/html": [
              "<div>\n",
              "<style scoped>\n",
              "    .dataframe tbody tr th:only-of-type {\n",
              "        vertical-align: middle;\n",
              "    }\n",
              "\n",
              "    .dataframe tbody tr th {\n",
              "        vertical-align: top;\n",
              "    }\n",
              "\n",
              "    .dataframe thead th {\n",
              "        text-align: right;\n",
              "    }\n",
              "</style>\n",
              "<table border=\"1\" class=\"dataframe\">\n",
              "  <thead>\n",
              "    <tr style=\"text-align: right;\">\n",
              "      <th></th>\n",
              "      <th>sex</th>\n",
              "      <th>age</th>\n",
              "      <th>Time</th>\n",
              "      <th>Number_of_Warts</th>\n",
              "      <th>Type</th>\n",
              "      <th>Area</th>\n",
              "      <th>Result_of_Treatment</th>\n",
              "    </tr>\n",
              "  </thead>\n",
              "  <tbody>\n",
              "    <tr>\n",
              "      <th>sex</th>\n",
              "      <td>1.000000</td>\n",
              "      <td>-0.115185</td>\n",
              "      <td>0.074417</td>\n",
              "      <td>0.018952</td>\n",
              "      <td>0.219970</td>\n",
              "      <td>0.091213</td>\n",
              "      <td>-0.086203</td>\n",
              "    </tr>\n",
              "    <tr>\n",
              "      <th>age</th>\n",
              "      <td>-0.115185</td>\n",
              "      <td>1.000000</td>\n",
              "      <td>0.236305</td>\n",
              "      <td>-0.034797</td>\n",
              "      <td>0.415536</td>\n",
              "      <td>0.080915</td>\n",
              "      <td>-0.542780</td>\n",
              "    </tr>\n",
              "    <tr>\n",
              "      <th>Time</th>\n",
              "      <td>0.074417</td>\n",
              "      <td>0.236305</td>\n",
              "      <td>1.000000</td>\n",
              "      <td>-0.074354</td>\n",
              "      <td>0.235056</td>\n",
              "      <td>0.241559</td>\n",
              "      <td>-0.654147</td>\n",
              "    </tr>\n",
              "    <tr>\n",
              "      <th>Number_of_Warts</th>\n",
              "      <td>0.018952</td>\n",
              "      <td>-0.034797</td>\n",
              "      <td>-0.074354</td>\n",
              "      <td>1.000000</td>\n",
              "      <td>0.002784</td>\n",
              "      <td>0.108762</td>\n",
              "      <td>0.078273</td>\n",
              "    </tr>\n",
              "    <tr>\n",
              "      <th>Type</th>\n",
              "      <td>0.219970</td>\n",
              "      <td>0.415536</td>\n",
              "      <td>0.235056</td>\n",
              "      <td>0.002784</td>\n",
              "      <td>1.000000</td>\n",
              "      <td>0.354398</td>\n",
              "      <td>-0.485030</td>\n",
              "    </tr>\n",
              "    <tr>\n",
              "      <th>Area</th>\n",
              "      <td>0.091213</td>\n",
              "      <td>0.080915</td>\n",
              "      <td>0.241559</td>\n",
              "      <td>0.108762</td>\n",
              "      <td>0.354398</td>\n",
              "      <td>1.000000</td>\n",
              "      <td>-0.188886</td>\n",
              "    </tr>\n",
              "    <tr>\n",
              "      <th>Result_of_Treatment</th>\n",
              "      <td>-0.086203</td>\n",
              "      <td>-0.542780</td>\n",
              "      <td>-0.654147</td>\n",
              "      <td>0.078273</td>\n",
              "      <td>-0.485030</td>\n",
              "      <td>-0.188886</td>\n",
              "      <td>1.000000</td>\n",
              "    </tr>\n",
              "  </tbody>\n",
              "</table>\n",
              "</div>"
            ],
            "text/plain": [
              "                          sex       age  ...      Area  Result_of_Treatment\n",
              "sex                  1.000000 -0.115185  ...  0.091213            -0.086203\n",
              "age                 -0.115185  1.000000  ...  0.080915            -0.542780\n",
              "Time                 0.074417  0.236305  ...  0.241559            -0.654147\n",
              "Number_of_Warts      0.018952 -0.034797  ...  0.108762             0.078273\n",
              "Type                 0.219970  0.415536  ...  0.354398            -0.485030\n",
              "Area                 0.091213  0.080915  ...  1.000000            -0.188886\n",
              "Result_of_Treatment -0.086203 -0.542780  ... -0.188886             1.000000\n",
              "\n",
              "[7 rows x 7 columns]"
            ]
          },
          "metadata": {
            "tags": []
          },
          "execution_count": 10
        }
      ]
    },
    {
      "cell_type": "code",
      "metadata": {
        "id": "SiP1PBGQBIaH",
        "colab_type": "code",
        "colab": {}
      },
      "source": [
        "target_var=data['Result_of_Treatment']                                #selcting the feaature variable and  target_var\n",
        "feature=data['Time']"
      ],
      "execution_count": 0,
      "outputs": []
    },
    {
      "cell_type": "code",
      "metadata": {
        "id": "4_niCtmTDc5B",
        "colab_type": "code",
        "colab": {}
      },
      "source": [
        "random_indices=np.random.randint(0,len(data))\n",
        "x_test=feature.iloc[random_indices]\n",
        "y_test=target_var.iloc[random_indices]                         #generating some random indices values for testing our model by selecting the rows of feature  and rows of target_var for accuracy purpose"
      ],
      "execution_count": 0,
      "outputs": []
    },
    {
      "cell_type": "code",
      "metadata": {
        "id": "U86o1lO2Qx3h",
        "colab_type": "code",
        "colab": {}
      },
      "source": [
        "p_pos=len(data[data['Result_of_Treatment']==1])/len(data)      #seperating our dataset to positve values and negative values and dividing them by the total dataset\n",
        "p_neg=len(data[data['Result_of_Treatment']==0])/len(data)\n"
      ],
      "execution_count": 0,
      "outputs": []
    },
    {
      "cell_type": "code",
      "metadata": {
        "id": "N3KVJmEoWo8g",
        "colab_type": "code",
        "colab": {}
      },
      "source": [
        "def prior(x,mean,std):\n",
        "  return (1/((2*np.pi)**0.5)*std)*np.exp(-1*(x-mean/std))**2                                 #prior function"
      ],
      "execution_count": 0,
      "outputs": []
    },
    {
      "cell_type": "code",
      "metadata": {
        "id": "Vc6o5ILybbpf",
        "colab_type": "code",
        "colab": {}
      },
      "source": [
        "def posterior_pos(x,mean_pos,mean_neg,std_pos,std_neg):\n",
        "  global p_pos,p_neg                                                                                                  #posterior positive\n",
        "  return (prior(x,mean_pos,std_pos)*p_pos)/prior(x,mean_pos,std_pos)*p_pos+prior(x,mean_neg,std_neg)*p_neg"
      ],
      "execution_count": 0,
      "outputs": []
    },
    {
      "cell_type": "code",
      "metadata": {
        "id": "yUZfjUVsg6lS",
        "colab_type": "code",
        "colab": {}
      },
      "source": [
        "def posterior_neg(x,mean_pos,mean_neg,std_pos,std_neg):\n",
        "  global p_pos,p_neg                                                                                                #posterior negative\n",
        "  return prior(x,mean_neg,std_neg)*p_neg/prior(x,mean_neg,std_neg)*p_neg+prior(x,mean_pos,std_pos)*p_pos"
      ],
      "execution_count": 0,
      "outputs": []
    },
    {
      "cell_type": "code",
      "metadata": {
        "id": "XOeDGqhkpOID",
        "colab_type": "code",
        "colab": {}
      },
      "source": [
        "mean_pos=np.mean(data[data['Result_of_Treatment']==1]['Time'])                                  #finding out the means and standard deviations of postive and negative\n",
        "mean_neg=np.mean(data[data['Result_of_Treatment']==0][\"Time\"])\n",
        "std_pos=np.std(data[data[\"Result_of_Treatment\"]==1]['Time'])\n",
        "std_neg=np.std(data[data['Result_of_Treatment']==0][\"Time\"])"
      ],
      "execution_count": 0,
      "outputs": []
    },
    {
      "cell_type": "code",
      "metadata": {
        "colab_type": "code",
        "id": "bI-S3x6OWC2t",
        "colab": {}
      },
      "source": [
        "temp1 = 0  \n",
        "temp2 = 0                                                               #so in order to know which posterior probablity is greater,\n",
        "                                                                      # we are creating temporary variables for storing the data of posterior_pos,posterior_neg and comparing the both\n",
        "predicted_class=[]\n",
        "for i in range(len(data)):\n",
        "    temp1 = posterior_pos(feature.iloc[i],mean_pos,mean_neg,std_pos,std_neg)\n",
        "    temp2 = posterior_neg(feature.iloc[i],mean_pos,mean_neg,std_pos,std_neg)\n",
        "    if (temp1>temp2):\n",
        "      predicted_class.append(1)\n",
        "    else:\n",
        "      predicted_class.append(0)\n",
        "               "
      ],
      "execution_count": 0,
      "outputs": []
    },
    {
      "cell_type": "code",
      "metadata": {
        "id": "Mp3vm-FJyexL",
        "colab_type": "code",
        "outputId": "90538fad-9645-49b8-cf71-85c61fdd8061",
        "colab": {
          "base_uri": "https://localhost:8080/",
          "height": 34
        }
      },
      "source": [
        "len(data)"
      ],
      "execution_count": 45,
      "outputs": [
        {
          "output_type": "execute_result",
          "data": {
            "text/plain": [
              "90"
            ]
          },
          "metadata": {
            "tags": []
          },
          "execution_count": 45
        }
      ]
    },
    {
      "cell_type": "code",
      "metadata": {
        "id": "s6HbYQQoIEqO",
        "colab_type": "code",
        "colab": {}
      },
      "source": [
        "def accuracy(predicted_class,actual):\n",
        "  correct =  0\n",
        "  for i in range(0,len(predicted_class)):\n",
        "    if(predicted_class[i]==actual.iloc[i]):\n",
        "      correct +=1\n",
        "  return (correct/len(actual))*100"
      ],
      "execution_count": 0,
      "outputs": []
    },
    {
      "cell_type": "code",
      "metadata": {
        "id": "Cp8qIOVNJF9E",
        "colab_type": "code",
        "colab": {}
      },
      "source": [
        ""
      ],
      "execution_count": 0,
      "outputs": []
    },
    {
      "cell_type": "code",
      "metadata": {
        "id": "g-DTAx3JJ0n2",
        "colab_type": "code",
        "colab": {
          "base_uri": "https://localhost:8080/",
          "height": 34
        },
        "outputId": "af757a57-b8f5-4542-cee6-e9d5a571c842"
      },
      "source": [
        "print(\"Your accuracy score | On Univariate Naive Bayes Algorithm without MLE: \",accuracy(predicted_class,target_var), \" %\")"
      ],
      "execution_count": 49,
      "outputs": [
        {
          "output_type": "stream",
          "text": [
            "Your accuracy score | On Univariate Naive Bayes Algorithm without MLE:  53.333333333333336  %\n"
          ],
          "name": "stdout"
        }
      ]
    },
    {
      "cell_type": "code",
      "metadata": {
        "colab_type": "code",
        "id": "hTd_xIkFQ_g4",
        "colab": {}
      },
      "source": [
        ""
      ],
      "execution_count": 0,
      "outputs": []
    }
  ]
}